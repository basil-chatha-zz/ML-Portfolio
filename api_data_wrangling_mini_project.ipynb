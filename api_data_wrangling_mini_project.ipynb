{
 "cells": [
  {
   "cell_type": "markdown",
   "metadata": {},
   "source": [
    "This exercise will require you to pull some data from the Qunadl API. Qaundl is currently the most widely used aggregator of financial market data."
   ]
  },
  {
   "cell_type": "markdown",
   "metadata": {},
   "source": [
    "As a first step, you will need to register a free account on the http://www.quandl.com website."
   ]
  },
  {
   "cell_type": "markdown",
   "metadata": {},
   "source": [
    "After you register, you will be provided with a unique API key, that you should store:"
   ]
  },
  {
   "cell_type": "code",
   "execution_count": 1,
   "metadata": {
    "collapsed": true
   },
   "outputs": [],
   "source": [
    "# Store the API key as a string - according to PEP8, constants are always named in all upper case\n",
    "API_KEY = 'Hpnx3os6JxzB_L3HEhBa'"
   ]
  },
  {
   "cell_type": "markdown",
   "metadata": {},
   "source": [
    "Qaundl has a large number of data sources, but, unfortunately, most of them require a Premium subscription. Still, there are also a good number of free datasets."
   ]
  },
  {
   "cell_type": "markdown",
   "metadata": {},
   "source": [
    "For this mini project, we will focus on equities data from the Frankfurt Stock Exhange (FSE), which is available for free. We'll try and analyze the stock prices of a company called Carl Zeiss Meditec, which manufactures tools for eye examinations, as well as medical lasers for laser eye surgery: https://www.zeiss.com/meditec/int/home.html. The company is listed under the stock ticker AFX_X."
   ]
  },
  {
   "cell_type": "markdown",
   "metadata": {},
   "source": [
    "You can find the detailed Quandl API instructions here: https://docs.quandl.com/docs/time-series"
   ]
  },
  {
   "cell_type": "markdown",
   "metadata": {},
   "source": [
    "While there is a dedicated Python package for connecting to the Quandl API, we would prefer that you use the *requests* package, which can be easily downloaded using *pip* or *conda*. You can find the documentation for the package here: http://docs.python-requests.org/en/master/ "
   ]
  },
  {
   "cell_type": "markdown",
   "metadata": {},
   "source": [
    "Finally, apart from the *requests* package, you are encouraged to not use any third party Python packages, such as *pandas*, and instead focus on what's available in the Python Standard Library (the *collections* module might come in handy: https://pymotw.com/3/collections/).\n",
    "Also, since you won't have access to DataFrames, you are encouraged to us Python's native data structures - preferably dictionaries, though some questions can also be answered using lists.\n",
    "You can read more on these data structures here: https://docs.python.org/3/tutorial/datastructures.html"
   ]
  },
  {
   "cell_type": "markdown",
   "metadata": {},
   "source": [
    "Keep in mind that the JSON responses you will be getting from the API map almost one-to-one to Python's dictionaries. Unfortunately, they can be very nested, so make sure you read up on indexing dictionaries in the documentation provided above."
   ]
  },
  {
   "cell_type": "code",
   "execution_count": 2,
   "metadata": {
    "collapsed": true
   },
   "outputs": [],
   "source": [
    "# First, import the relevant modules\n",
    "import requests\n"
   ]
  },
  {
   "cell_type": "code",
   "execution_count": 15,
   "metadata": {},
   "outputs": [],
   "source": [
    "# Now, call the Quandl API and pull out a small sample of the data (only one day) to get a glimpse\n",
    "# into the JSON structure that will be returned\n",
    "url = 'https://www.quandl.com/api/v3/datasets/FSE/AFX_X/data.json'\n",
    "params = dict(api_key=API_KEY, start_date='2020-01-28', end_date='2020-01-28')\n",
    "res = requests.get(url, params=params)"
   ]
  },
  {
   "cell_type": "code",
   "execution_count": 16,
   "metadata": {},
   "outputs": [
    {
     "data": {
      "text/plain": [
       "{'dataset_data': {'collapse': None,\n",
       "  'column_index': None,\n",
       "  'column_names': ['Date',\n",
       "   'Open',\n",
       "   'High',\n",
       "   'Low',\n",
       "   'Close',\n",
       "   'Change',\n",
       "   'Traded Volume',\n",
       "   'Turnover',\n",
       "   'Last Price of the Day',\n",
       "   'Daily Traded Units',\n",
       "   'Daily Turnover'],\n",
       "  'data': [['2020-01-28',\n",
       "    118.8,\n",
       "    119.6,\n",
       "    115.2,\n",
       "    118.1,\n",
       "    None,\n",
       "    134333.0,\n",
       "    15754191.0,\n",
       "    None,\n",
       "    None,\n",
       "    None]],\n",
       "  'end_date': '2020-01-28',\n",
       "  'frequency': 'daily',\n",
       "  'limit': None,\n",
       "  'order': None,\n",
       "  'start_date': '2020-01-28',\n",
       "  'transform': None}}"
      ]
     },
     "execution_count": 16,
     "metadata": {},
     "output_type": "execute_result"
    }
   ],
   "source": [
    "# Inspect the JSON structure of the object you created, and take note of how nested it is,\n",
    "# as well as the overall structure\n",
    "res.json()"
   ]
  },
  {
   "cell_type": "markdown",
   "metadata": {},
   "source": [
    "These are your tasks for this mini project:\n",
    "\n",
    "1. Collect data from the Franfurt Stock Exchange, for the ticker AFX_X, for the whole year 2017 (keep in mind that the date format is YYYY-MM-DD).\n",
    "2. Convert the returned JSON object into a Python dictionary.\n",
    "3. Calculate what the highest and lowest opening prices were for the stock in this period.\n",
    "4. What was the largest change in any one day (based on High and Low price)?\n",
    "5. What was the largest change between any two days (based on Closing Price)?\n",
    "6. What was the average daily trading volume during this year?\n",
    "7. (Optional) What was the median trading volume during this year. (Note: you may need to implement your own function for calculating the median.)"
   ]
  },
  {
   "cell_type": "code",
   "execution_count": 25,
   "metadata": {
    "collapsed": true
   },
   "outputs": [],
   "source": [
    "import sys"
   ]
  },
  {
   "cell_type": "code",
   "execution_count": 17,
   "metadata": {
    "collapsed": true
   },
   "outputs": [],
   "source": [
    "params = dict(api_key=API_KEY, start_date='2017-01-01', end_date='2017-12-31')\n",
    "res = requests.get(url, params=params)"
   ]
  },
  {
   "cell_type": "code",
   "execution_count": 19,
   "metadata": {},
   "outputs": [],
   "source": [
    "json = res.json()"
   ]
  },
  {
   "cell_type": "code",
   "execution_count": 46,
   "metadata": {},
   "outputs": [],
   "source": [
    "def getMinOpen(d):\n",
    "    m = float('inf')\n",
    "    for i in range(len(d['dataset_data']['data'])):\n",
    "        try:\n",
    "            if d['dataset_data']['data'][i][1] < m:\n",
    "                m = d['dataset_data']['data'][i][1]\n",
    "        except: pass\n",
    "    return m\n",
    "\n",
    "def getMaxOpen(d):\n",
    "    m = float('-inf')\n",
    "    for i in range(len(d['dataset_data']['data'])):\n",
    "        try:\n",
    "            if d['dataset_data']['data'][i][1] > m:\n",
    "                m = d['dataset_data']['data'][i][1]\n",
    "        except: pass\n",
    "    return m"
   ]
  },
  {
   "cell_type": "code",
   "execution_count": 48,
   "metadata": {},
   "outputs": [
    {
     "name": "stdout",
     "output_type": "stream",
     "text": [
      "highest open price: 53.11\n",
      "lowest open price: 34.0\n"
     ]
    }
   ],
   "source": [
    "print('highest open price: {}'.format(getMaxOpen(json)))\n",
    "print('lowest open price: {}'.format(getMinOpen(json)))"
   ]
  },
  {
   "cell_type": "code",
   "execution_count": 53,
   "metadata": {
    "collapsed": true
   },
   "outputs": [],
   "source": [
    "def getHighestChange(d):\n",
    "    m = float('-inf')\n",
    "    for i in range(len(d['dataset_data']['data'])):\n",
    "        try:\n",
    "            if abs(d['dataset_data']['data'][i][2] - d['dataset_data']['data'][i][3]) > m:\n",
    "                m = abs(d['dataset_data']['data'][i][2] - d['dataset_data']['data'][i][3])\n",
    "        except: pass\n",
    "    return m"
   ]
  },
  {
   "cell_type": "code",
   "execution_count": 54,
   "metadata": {},
   "outputs": [
    {
     "name": "stdout",
     "output_type": "stream",
     "text": [
      "highest change in any one day: 2.8100000000000023\n"
     ]
    }
   ],
   "source": [
    "print('highest change in any one day: {}'.format(getHighestChange(json)))"
   ]
  },
  {
   "cell_type": "code",
   "execution_count": 59,
   "metadata": {},
   "outputs": [],
   "source": [
    "def getHighestChangeTwo(d):\n",
    "    m = float('-inf')\n",
    "    for i in range(len(d['dataset_data']['data'])-1):\n",
    "        try:\n",
    "            if abs(d['dataset_data']['data'][i][4] - d['dataset_data']['data'][i+1][4]) > m:\n",
    "                m = abs(d['dataset_data']['data'][i][4] - d['dataset_data']['data'][i+1][4])\n",
    "        except: pass\n",
    "    return m"
   ]
  },
  {
   "cell_type": "code",
   "execution_count": 60,
   "metadata": {},
   "outputs": [
    {
     "name": "stdout",
     "output_type": "stream",
     "text": [
      "highest change between any two days: 2.559999999999995\n"
     ]
    }
   ],
   "source": [
    "print('highest change between any two days: {}'.format(getHighestChangeTwo(json)))"
   ]
  },
  {
   "cell_type": "code",
   "execution_count": 62,
   "metadata": {
    "collapsed": true
   },
   "outputs": [],
   "source": [
    "def avgTradingVolume(d):\n",
    "    m = 0\n",
    "    count = 0\n",
    "    for i in range(len(d['dataset_data']['data'])):\n",
    "        try:\n",
    "            m += d['dataset_data']['data'][i][6]\n",
    "            count += 1\n",
    "        except: pass\n",
    "    return m / count"
   ]
  },
  {
   "cell_type": "code",
   "execution_count": 63,
   "metadata": {},
   "outputs": [
    {
     "name": "stdout",
     "output_type": "stream",
     "text": [
      "average daily trading volume: 89124.33725490196\n"
     ]
    }
   ],
   "source": [
    "print('average daily trading volume: {}'.format(avgTradingVolume(json)))"
   ]
  },
  {
   "cell_type": "code",
   "execution_count": 66,
   "metadata": {
    "collapsed": true
   },
   "outputs": [],
   "source": [
    "def medianTradingVolume(d):\n",
    "    m = list()\n",
    "    count = 0\n",
    "    for i in range(len(d['dataset_data']['data'])):\n",
    "        try:\n",
    "            m.append(d['dataset_data']['data'][i][6])\n",
    "            count += 1\n",
    "        except: pass\n",
    "    m.sort()\n",
    "    if count % 2 == 0:\n",
    "        return (m[count // 2] + m[(count // 2) + 1]) / 2\n",
    "    else:\n",
    "        return m[count // 2]"
   ]
  },
  {
   "cell_type": "code",
   "execution_count": 67,
   "metadata": {},
   "outputs": [
    {
     "name": "stdout",
     "output_type": "stream",
     "text": [
      "median trading volume: 76286.0\n"
     ]
    }
   ],
   "source": [
    "print('median trading volume: {}'.format(medianTradingVolume(json)))"
   ]
  },
  {
   "cell_type": "code",
   "execution_count": null,
   "metadata": {
    "collapsed": true
   },
   "outputs": [],
   "source": []
  }
 ],
 "metadata": {
  "kernelspec": {
   "display_name": "Python 3",
   "language": "python",
   "name": "python3"
  },
  "language_info": {
   "codemirror_mode": {
    "name": "ipython",
    "version": 3
   },
   "file_extension": ".py",
   "mimetype": "text/x-python",
   "name": "python",
   "nbconvert_exporter": "python",
   "pygments_lexer": "ipython3",
   "version": "3.6.2"
  }
 },
 "nbformat": 4,
 "nbformat_minor": 2
}
